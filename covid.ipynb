{
 "cells": [
  {
   "cell_type": "code",
   "execution_count": null,
   "source": [
    "import geopandas as gpd\r\n",
    "import pandas as pd\r\n",
    "import numpy as np\r\n",
    "import plotly.graph_objects as go"
   ],
   "outputs": [],
   "metadata": {}
  },
  {
   "cell_type": "code",
   "execution_count": null,
   "source": [
    "# location dataframe\r\n",
    "# Source https://www.abs.gov.au/AUSSTATS/abs@.nsf/DetailsPage/1270.0.55.003June%202020?OpenDocument\r\n",
    "# Data taken for \"Local Government Areas ASGS Ed 2020 Digital Boundaries in ESRI Shapefile Format\"\r\n",
    "\r\n",
    "lga_gdf = gpd.read_file('data/LGA_2020_AUST.shp') #load the data using Geopandas\r\n",
    "lga_gdf = lga_gdf[lga_gdf['STE_NAME16']=='New South Wales'] #Select the data for the state of New South Wales\r\n",
    "lga_gdf['LGA_CODE20'] = lga_gdf['LGA_CODE20'].astype('str') # we will join on this axis, so both dataframes need this to be the same type\r\n",
    "\r\n",
    "#show the data\r\n",
    "lga_gdf.head()"
   ],
   "outputs": [],
   "metadata": {}
  },
  {
   "cell_type": "code",
   "execution_count": null,
   "source": [
    "# population data\r\n",
    "# Source https://www.abs.gov.au/statistics/people/population/regional-population-age-and-sex/latest-release#interactive-maps \r\n",
    "\r\n",
    "pop_df = pd.read_csv('data/population.csv')\r\n",
    "pop_df['LGA_CODE20'] = pop_df['LGA_CODE20'].astype('str') # we will join on this axis, so both dataframes need this to be the same type\r\n",
    "\r\n",
    "# show the data\r\n",
    "pop_df.head()"
   ],
   "outputs": [],
   "metadata": {}
  },
  {
   "cell_type": "code",
   "execution_count": null,
   "source": [
    "# merge one-to-one for population and location\r\n",
    "df_merged1 = pd.merge(lga_gdf[['LGA_CODE20', 'geometry', 'LGA_NAME20']], pop_df[['LGA_CODE20', 'population']], left_on='LGA_CODE20', right_on='LGA_CODE20', how='left')\r\n",
    "df_merged1 = df_merged1.dropna(subset=['population', 'geometry',]) # Drop if has None in some of the values after the merge (ie there where LGAs that werent in both data sources)\r\n",
    "df_merged1 = df_merged1.set_index('LGA_CODE20') # change the index from arbritrary numbers to be the LGA_CODE\r\n",
    "\r\n",
    "# show the data\r\n",
    "df_merged1.head()"
   ],
   "outputs": [],
   "metadata": {}
  },
  {
   "cell_type": "code",
   "execution_count": null,
   "source": [
    "# covid 19 data\r\n",
    "# Source https://data.nsw.gov.au/data/dataset/nsw-covid-19-cases-by-location-and-likely-source-of-infection/resource/2776dbb8-f807-4fb2-b1ed-184a6fc2c8aa \r\n",
    "\r\n",
    "# superseded code to import csv from saved file in working directory\r\n",
    "# cov_df = pd.read_csv('data/confirmed_cases_table4_location_likely_source.csv') # read the csv information saved in folder\r\n",
    "\r\n",
    "# code to load information directly from government website\r\n",
    "url = 'https://data.nsw.gov.au/data/dataset/97ea2424-abaf-4f3e-a9f2-b5c883f42b6a/resource/2776dbb8-f807-4fb2-b1ed-184a6fc2c8aa/download/confirmed_cases_table4_location_likely_source.csv'\r\n",
    "cov_df = pd.read_csv(url) # read the csv information directly from the nsw hosted location (should allow for updating easily)\r\n",
    "\r\n",
    "# clean data\r\n",
    "cov_df = cov_df[['notification_date', 'lga_code19']] # select only the columns we need\r\n",
    "cov_df = cov_df.dropna(subset=['lga_code19','notification_date']) # remove any rows that have incomplete data\r\n",
    "cov_df['lga_code19'] = cov_df['lga_code19'].astype('str') # we will join on this axis, so both dataframes need this to be the same type (int then str to prevent .0)\r\n",
    "cov_df['notification_date'] = pd.to_datetime(cov_df['notification_date'], format=\"%Y/%m/%d\") #change date from string to pandas datetime format\r\n",
    "\r\n",
    "# show the data\r\n",
    "cov_df.head()"
   ],
   "outputs": [],
   "metadata": {}
  },
  {
   "cell_type": "code",
   "execution_count": null,
   "source": [
    "# count cases within the last two weeks only\r\n",
    "end_date = pd.to_datetime('05/09/2021', format='%d/%m/%Y')\r\n",
    "time_dif = pd.to_timedelta('14 days')\r\n",
    "start_date = end_date - time_dif\r\n",
    "dated_df = cov_df[(cov_df['notification_date'] > start_date) & (cov_df['notification_date'] <= end_date)]\r\n",
    "dated_df = dated_df.groupby(['lga_code19']).size().reset_index(name=\"cases\") # find the total two week cases for each LGA (total number rows for each LGA)\r\n",
    "\r\n",
    "# show the data\r\n",
    "dated_df.head()"
   ],
   "outputs": [],
   "metadata": {}
  },
  {
   "cell_type": "code",
   "execution_count": null,
   "source": [
    "# merge one-to-one for the covid cases with the LGA population and geometry data\r\n",
    "df_merged = pd.merge(dated_df, df_merged1, left_on='lga_code19', right_on='LGA_CODE20', validate='one_to_one')\r\n",
    "\r\n",
    "# cases and population should both have none 0 values, so the following math shouldnt have any error\r\n",
    "df_merged['percentage_cases'] = (df_merged['cases'].astype('int')/df_merged['population'].astype('float')).astype('float')\r\n",
    "\r\n",
    "# edit geo data to allow use with  mapbox graph\r\n",
    "df_merged = df_merged.set_index('lga_code19') \r\n",
    "df_merged = gpd.GeoDataFrame(df_merged)\r\n",
    "df_merged = df_merged.to_crs(epsg=4326) # convert the coordinate reference system to lat/long\r\n",
    "lga_json = df_merged.__geo_interface__ #covert to geoJSON\r\n",
    "\r\n",
    "df_merged.head()"
   ],
   "outputs": [],
   "metadata": {}
  },
  {
   "cell_type": "code",
   "execution_count": null,
   "source": [
    "# In order to use this code you will need to use your own private mapbox access token\r\n",
    "# You can sign up and get a token for mapbox here https://account.mapbox.com/access-tokens/\r\n",
    "# For personal use, accessing the API will be free.\r\n",
    "\r\n",
    "MAPBOX_ACCESSTOKEN = 'your-token-here'\r\n",
    "\r\n",
    "# max and min for color scale\r\n",
    "zmin = df_merged['percentage_cases'].min()\r\n",
    "zmax = df_merged['percentage_cases'].max()\r\n",
    "\r\n",
    "# Just use zmax of 0.02 so that the rural cases dont skew the\r\n",
    "# data so much that it is hard to compare sydney\r\n",
    "zmax =0.020\r\n",
    "\r\n",
    "# convert start and end date into a readable string for figure title\r\n",
    "t1 = start_date.strftime('%d/%m/%Y')\r\n",
    "t2 = end_date.strftime('%d/%m/%Y')\r\n",
    "\r\n",
    "\r\n",
    "\r\n",
    "data = go.Choroplethmapbox(\r\n",
    "        geojson = lga_json,             #this is your GeoJSON\r\n",
    "        locations = df_merged.index,    #the index of this dataframe should align with the 'id' element in your geojson\r\n",
    "        z = df_merged.percentage_cases, #sets the color value\r\n",
    "        meta = list(zip(df_merged.LGA_NAME20, df_merged.cases, df_merged.population.astype('str'))), #sets text for each shape\r\n",
    "        colorbar=dict(thickness=20, ticklen=3, tickformat='.2%',outlinewidth=0), #adjusts the format of the colorbar\r\n",
    "        marker_line_width=1, marker_opacity=0.7, colorscale=\"Viridis\", #adjust format of the plot\r\n",
    "        zmin=zmin, zmax=zmax,           #sets min and max of the colorbar\r\n",
    "        hovertemplate = \"<b>%{meta[0]}</b><br>\" +\r\n",
    "                    \"Cases: %{meta[1]}<br>\" +\r\n",
    "                    \"Population: %{meta[2]}<br>\" +\r\n",
    "                    \"Percentage: %{z:.3%}<br>\" +\r\n",
    "                    \"<extra></extra>\")  # sets the format of the text shown when you hover over each shape\r\n",
    "\r\n",
    "\r\n",
    "# Set the layout for the map\r\n",
    "layout = go.Layout(\r\n",
    "    title = {'text': f\"Covid cases normalized by LGA Population - {t1} to {t2}\",\r\n",
    "            'font': {'size':24}},       #format the plot title \r\n",
    "    mapbox1 = dict(\r\n",
    "        domain = {'x': [0, 1],'y': [0, 1]}, \r\n",
    "        center = dict(lat=-33.5 , lon=151),\r\n",
    "        accesstoken = MAPBOX_ACCESSTOKEN, \r\n",
    "        zoom = 6),                  \r\n",
    "    autosize=True,\r\n",
    "    height=650,\r\n",
    "    margin=dict(l=0, r=0, t=40, b=0))\r\n",
    "\r\n",
    "# Generate the map\r\n",
    "fig=go.Figure(data=data,layout=layout)\r\n",
    "fig.show()\r\n",
    "\r\n",
    "# fig.write_html('index.html') # code to save the figure as a html file"
   ],
   "outputs": [],
   "metadata": {}
  }
 ],
 "metadata": {
  "orig_nbformat": 4,
  "language_info": {
   "name": "python",
   "version": "3.7.3",
   "mimetype": "text/x-python",
   "codemirror_mode": {
    "name": "ipython",
    "version": 3
   },
   "pygments_lexer": "ipython3",
   "nbconvert_exporter": "python",
   "file_extension": ".py"
  },
  "kernelspec": {
   "name": "python3",
   "display_name": "Python 3.7.3 64-bit"
  },
  "interpreter": {
   "hash": "961eff7faf67ce79553a65a2487d2e108eb15b996265a912167c96f0537f9b25"
  }
 },
 "nbformat": 4,
 "nbformat_minor": 2
}